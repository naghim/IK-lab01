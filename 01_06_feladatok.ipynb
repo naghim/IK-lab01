{
  "cells": [
    {
      "cell_type": "markdown",
      "metadata": {
        "colab_type": "text",
        "id": "BrjbAqF7dFwX"
      },
      "source": [
        "# Feladatok\n",
        "\n",
        "\n",
        "\n",
        "----\n"
      ]
    },
    {
      "cell_type": "markdown",
      "metadata": {
        "colab_type": "text",
        "id": "4u3wvRgsdFwa"
      },
      "source": [
        "## 1. Feladat\n",
        "#### Listák - I. \n",
        "\n",
        "Galileo Galilei egyik gondolatát küldték el nekünk SMS-ben, de sajnos hálózati hiba miatt nem sorrendben érkeztek meg a szavak. A következőt olvastuk a telefonunkban:"
      ]
    },
    {
      "cell_type": "code",
      "execution_count": 2,
      "metadata": {
        "colab": {},
        "colab_type": "code",
        "id": "KiIy4GbidFwb"
      },
      "outputs": [],
      "source": [
        "sms = ['Szentírás ', 'bölcs ', 'a ', 'már ', 'szükséges ', 'mondhat ', 'biztosak ', 'a ', \n",
        "     'feladata, ', 'Mivel ', 'ellent ', 'a ', 'érzéki ', 'azokkal ', 'következtetésekkel, ',\n",
        "     'a ', 'vagyunk ', 'a ', 'tapasztalataink ', 'szöveg ', 'azon ', 'igazság ', 'sose ',\n",
        "     'ami ', 'hogy ', 'melyekben ', 'kísérletek ', 'megtalálják ', 'által.', 'két ', 'fizikai ',\n",
        "     'egymásnak, ', 'egyezik ', 'és ', 'értelmezőinek ', 'értelmezését, ']"
      ]
    },
    {
      "cell_type": "markdown",
      "metadata": {
        "colab_type": "text",
        "id": "kRAM2StCdFwf"
      },
      "source": [
        "Később a telefonszolgáltató megtalálta a hiba okát, és elküldte, hogy milyen sorrendben kaptuk meg az eredeti szöveg szavait:"
      ]
    },
    {
      "cell_type": "code",
      "execution_count": 3,
      "metadata": {
        "colab": {},
        "colab_type": "code",
        "id": "YfEx-oA7dFwg"
      },
      "outputs": [],
      "source": [
        "sorrend = [8,9,15,26,33,4,27,11,12,0,5,32,29,21,24,22,28,7,30,16,17,2,3,19,13,25,34,14,35,1,23,6,20,31,10,18]"
      ]
    },
    {
      "cell_type": "markdown",
      "metadata": {
        "colab_type": "text",
        "id": "sA6gpmXJdFwj"
      },
      "source": [
        "Azaz az általunk megkapott első szó a hibás üzenetből (sms) a 8-as indexet viselte az eredeti üzenetben, azaz a 9. elem volt.\n",
        "\n",
        "Írj egy olyan programot, ami helyreállítja az idézetet, valamint össze is fűzi a lista elemeit egy mondattá."
      ]
    },
    {
      "cell_type": "code",
      "execution_count": null,
      "metadata": {},
      "outputs": [],
      "source": [
        "# Megoldás:"
      ]
    },
    {
      "cell_type": "markdown",
      "metadata": {
        "colab_type": "text",
        "id": "trwhokPldFwk"
      },
      "source": [
        "## 2. Feladat\n",
        "\n",
        "#### Dictionary - I.\n",
        "\n",
        "Írjatok egy függvényt, ami a megadott szótár segítségével tetszőleges magyar szöveget angolra fordít!\n",
        "\n",
        "- A fordítás történjen szóról szóra.\n",
        "- Ha ismeretlen szóval találkoztok, akkor csináljátok azt, amit a Google Translator: csak írjátok ki az eredeti szót fordítás nélkül. ( A szöveg többi részét természetesen le kell fordítani.)\n",
        "- Nem baj, ha nyelvtanilag nem helyes vagy értelmetlen a fordítás."
      ]
    },
    {
      "cell_type": "code",
      "execution_count": 0,
      "metadata": {
        "colab": {},
        "colab_type": "code",
        "id": "9tGUdBQndFwl"
      },
      "outputs": [],
      "source": [
        "szotar={'a':'the',\n",
        "        'majom': 'monkey',\n",
        "        'kutya':'dog',\n",
        "        'szereti':'likes',\n",
        "        'banánt':'banana',\n",
        "        'kolbászt':'sausage'}\n",
        "\n",
        "pelda_szoveg='a majom szereti a banánt minden kutya szereti a kolbászt'"
      ]
    },
    {
      "cell_type": "markdown",
      "metadata": {
        "colab_type": "text",
        "id": "dK---IxJdFwo"
      },
      "source": [
        "## 3. feladat\n",
        "\n",
        "#### Függvények - II.\n",
        "\n",
        "Írj egy függvényt, ami a $$ ax^2+bx+c=0 $$ másodfokú egyenlet (valós és komplex) gyökeit határozza meg. Csak akkor kapjunk eredményként komplex számot, ha a diszkrimináns negatív!\n",
        "\n",
        "Példaként add meg a következő négy egyenlet megoldását:\n",
        "1. $x^2=100$\n",
        "2. $3x^2-25x=10$\n",
        "3. $-4x^2+4x=1$\n",
        "4. $25x^2+16x=-100$"
      ]
    },
    {
      "cell_type": "code",
      "execution_count": 0,
      "metadata": {
        "colab": {},
        "colab_type": "code",
        "id": "iHHzPu_jdFwp"
      },
      "outputs": [],
      "source": [
        "def masodfoku(a,b,c):\n",
        "    \n",
        "    \n",
        "    return x1,x2"
      ]
    },
    {
      "cell_type": "markdown",
      "metadata": {
        "colab_type": "text",
        "id": "PxmZy_IRdFws"
      },
      "source": [
        "## 4. Feladat\n",
        "\n",
        "#### Docstring és változó számú argumentumok - I.\n",
        "\n",
        "Írjunk egy függvényt, amely egy kezdőértékből, egy kvóciensből és egy N egész számból legyárt egy N hosszú mértani sorozatot.\n",
        "\n",
        "Az általunk megírt függvény teljesítse a következő feltételeket:\n",
        "- írjunk **docstringet**,\n",
        "- a függvény egy listával **térjen vissza**\n",
        "- ha egy bemeneti értéke van, akkor azt tekintse kezdőértéknek, a kvóciens legyen 0.5, N pedig 10\n",
        "- ha két bemeneti érték van, akkor az első legyen a kezdőérték, a második a kvóciens, N pedig 10\n",
        "- ha megvan mind a három paraméter, akkor ugyanúgy viselkedjen, mint ahogy azt az előző feladatban tette"
      ]
    },
    {
      "cell_type": "code",
      "execution_count": 0,
      "metadata": {
        "colab": {},
        "colab_type": "code",
        "id": "gemtKC0SdFws"
      },
      "outputs": [],
      "source": [
        "def mertani(x0,q,N):\n",
        "    \"\"\"...\"\"\" # ide jön a docstring\n",
        "    #\n",
        "    # ide jön a varázslat..\n",
        "    #\n"
      ]
    },
    {
      "cell_type": "markdown",
      "metadata": {
        "colab_type": "text",
        "id": "76srIpUudFwv"
      },
      "source": [
        "##  5. feladat\n",
        "\n",
        "#### Dictionary - II.\n",
        "\n",
        "A harmadik feladat magyar-angol szótárának megfordításával készítsétek el az angol-magyar szótárt, majd ennek segítségével a függvényt, ami tetszőleges angol szöveget magyarra fordít!\n",
        "\n",
        "- A kézzel bevitt szótár nem jó megoldás! (használjátok a `dict` típus `items()` tagfüggvényét!)\n",
        "\n",
        "- Ha ismeretlen szóval találkoztok, akkor csináljátok azt, amit a Google Translator: csak írjátok ki az eredeti szót fordítás nélkül. ( A szöveg többi részét természetesen le kell fordítani.)\n",
        "\n",
        "- Nem baj, ha nyelvtanilag nem helyes, vagy értelmetlen a fordítás.\n",
        "\n",
        "----"
      ]
    },
    {
      "cell_type": "code",
      "execution_count": 0,
      "metadata": {
        "colab": {},
        "colab_type": "code",
        "id": "yM95f8I0dFwv"
      },
      "outputs": [],
      "source": [
        "szotar = {\n",
        "    'a': 'the',\n",
        "    'majom': 'monkey',\n",
        "    'kutya': 'dog',\n",
        "    'szereti': 'likes',\n",
        "    'banánt': 'banana',\n",
        "    'kolbászt': 'sausage'\n",
        "}\n",
        "\n",
        "angol_mondat = 'The monkey likes banana. Every dog likes sausage.'"
      ]
    },
    {
      "cell_type": "markdown",
      "metadata": {
        "colab_type": "text",
        "id": "-qRGQ5HIdFwy"
      },
      "source": [
        "##  6. feladat \n",
        "\n",
        "#### Kulcsszavas függvény változó számú argumentummal\n",
        "\n",
        "Írjunk egy függvényt, amely egy adott **x** array-ben tárolt valós értékekre kiértékel egy tetszőleges polinomfüggvényt, vagy ábrázolja azt! \n",
        "- A polinom-együtthatókat egy tetszőleges hosszúságú **args** nevű váltózóban kapjuk.\n",
        "- Ha a **kwargs** kulcsszavas argumentumban a `csinal_kepet` kulcsszo `True` akkor ábrázoljuk a polinomot és ne térjünk vissza semmilyen értékkel, ellenkező esetben a függvény térjen vissza egy array változóval amely polinom értékeit tartalmazza az **x** változóban tárolt helyeken. \n",
        "- Az ábrázolás stilisztikai paramétereit a függvénynek adott egyéb kulcsszavas argumentumok segítségével állítsuk be!"
      ]
    },
    {
      "cell_type": "code",
      "execution_count": 0,
      "metadata": {
        "colab": {},
        "colab_type": "code",
        "id": "sJiHJMyLdFwy"
      },
      "outputs": [],
      "source": [
        "def fuggveny(x,*args,**kwargs):\n",
        "    \"Kiértékelek vagy ábrázolok egy polinom-ot\"\n",
        "    #\n",
        "    #ide jön a varázslat\n",
        "    #\n",
        "    "
      ]
    },
    {
      "cell_type": "markdown",
      "metadata": {
        "colab_type": "text",
        "id": "PuID9ktLdFw1"
      },
      "source": [
        "## 7. feladat\n",
        "\n",
        "#### Listák - II.\n",
        "\n",
        "Ábrázold hisztogramon az [Anyám tyúkja](http://magyar-irodalom.elte.hu/sulinet/igyjo/setup/portrek/petofi/anyamtyu.htm) versben a szavak hosszának eloszlását."
      ]
    },
    {
      "cell_type": "markdown",
      "metadata": {
        "colab_type": "text",
        "id": "CAAfXZzzdFw2"
      },
      "source": [
        "##  8. Péksütemény \n",
        "\n",
        "#### Véletlen számok-II\n",
        "\n",
        "Írj egy olyan függvényt, melynek bemeneti értéke a $p$ valószínűség (mely egy 0 és 1 közötti szám), kimeneti értéke pedig $p$ valószínűséggel a \"kakaós csiga\" string, 1-$p$ valószínűséggel pedig a \"túrós táska\" string. Demonstráld hisztogram segítségével, hogy a függvényed helyes eloszlással generálja a kívánt péksüteményeket!"
      ]
    },
    {
      "cell_type": "code",
      "execution_count": 0,
      "metadata": {
        "colab": {},
        "colab_type": "code",
        "id": "YiU_180sdFw2"
      },
      "outputs": [],
      "source": []
    }
  ],
  "metadata": {
    "colab": {
      "collapsed_sections": [],
      "name": "feladat01.ipynb",
      "provenance": []
    },
    "hide_input": false,
    "kernelspec": {
      "display_name": "Python 3",
      "language": "python",
      "name": "python3"
    },
    "language_info": {
      "codemirror_mode": {
        "name": "ipython",
        "version": 3
      },
      "file_extension": ".py",
      "mimetype": "text/x-python",
      "name": "python",
      "nbconvert_exporter": "python",
      "pygments_lexer": "ipython3",
      "version": "3.13.1"
    }
  },
  "nbformat": 4,
  "nbformat_minor": 0
}
